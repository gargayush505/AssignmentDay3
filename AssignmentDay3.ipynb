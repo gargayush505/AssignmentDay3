{
 "cells": [
  {
   "cell_type": "markdown",
   "metadata": {},
   "source": [
    "#ANS1)"
   ]
  },
  {
   "cell_type": "code",
   "execution_count": 1,
   "metadata": {},
   "outputs": [
    {
     "data": {
      "text/plain": [
       "array([ 2,  5,  8, 11, 14, 17, 20, 23, 26, 29, 32, 35, 38, 41, 44, 47, 50])"
      ]
     },
     "execution_count": 1,
     "metadata": {},
     "output_type": "execute_result"
    }
   ],
   "source": [
    "import numpy as np\n",
    "arr=np.array(range(2,51,3))\n",
    "arr"
   ]
  },
  {
   "cell_type": "code",
   "execution_count": 2,
   "metadata": {},
   "outputs": [
    {
     "name": "stdout",
     "output_type": "stream",
     "text": [
      "56\n",
      "35\n",
      "6\n",
      "88\n",
      "64\n",
      "86\n",
      "57\n",
      "48\n",
      "65\n",
      "95\n",
      "[ 6 35 56 64 88]\n",
      "[48 57 65 86 95]\n"
     ]
    }
   ],
   "source": [
    "#ANS2)\n",
    "x=[]\n",
    "i=0\n",
    "while i<5:\n",
    "    a=input()\n",
    "    b=int(a)\n",
    "    c=x.append(b)\n",
    "    i+=1\n",
    "y=[]    \n",
    "j=0\n",
    "while j<5:\n",
    "    d=input()\n",
    "    e=int(d)\n",
    "    f=y.append(e)\n",
    "    j+=1\n",
    "    \n",
    "arr1=np.array(x)\n",
    "arr2=np.array(y)\n",
    "arr1.sort()\n",
    "arr2.sort()\n",
    "print(arr1)\n",
    "print(arr2)\n"
   ]
  },
  {
   "cell_type": "code",
   "execution_count": 3,
   "metadata": {},
   "outputs": [
    {
     "name": "stdout",
     "output_type": "stream",
     "text": [
      "(2, 6)\n",
      "12\n"
     ]
    }
   ],
   "source": [
    "#ANS3)\n",
    "\n",
    "array=np.array([[1,2,3,4,5,6],[7,8,9,10,11,12]])\n",
    "array\n",
    "print(array.shape)\n",
    "print(array.size)"
   ]
  },
  {
   "cell_type": "code",
   "execution_count": 4,
   "metadata": {},
   "outputs": [
    {
     "name": "stdout",
     "output_type": "stream",
     "text": [
      "(5,)\n",
      "(4, 1)\n"
     ]
    }
   ],
   "source": [
    "#ANS4)\n",
    "\n",
    "array_1d = np.array([1,2,3,4,5])\n",
    "print(array_1d.shape)\n",
    "array_2d=array_1d[: , np.newaxis][1:5]\n",
    "print(array_2d.shape)"
   ]
  },
  {
   "cell_type": "code",
   "execution_count": 5,
   "metadata": {},
   "outputs": [
    {
     "name": "stdout",
     "output_type": "stream",
     "text": [
      "[[1 2 3]\n",
      " [4 5 6]\n",
      " [7 8 9]]\n",
      "[[11 12 13]\n",
      " [14 15 16]\n",
      " [17 18 19]]\n",
      "[1 2 3 4 5 6 7 8 9]\n",
      "[11 12 13 14 15 16 17 18 19]\n"
     ]
    }
   ],
   "source": [
    "#ANS5)\n",
    "ayush=np.array([[1,2,3],[4,5,6],[7,8,9]])\n",
    "garg=np.array([[11,12,13],[14,15,16],[17,18,19]])\n",
    "print(np.vstack(ayush))\n",
    "print(np.vstack(garg))\n",
    "print(np.hstack(ayush))\n",
    "print(np.hstack(garg))"
   ]
  },
  {
   "cell_type": "code",
   "execution_count": 6,
   "metadata": {},
   "outputs": [
    {
     "name": "stdout",
     "output_type": "stream",
     "text": [
      "[[12 14 16]\n",
      " [18 20 22]\n",
      " [24 26 28]]\n"
     ]
    },
    {
     "data": {
      "text/plain": [
       "(array([0], dtype=int64),)"
      ]
     },
     "execution_count": 6,
     "metadata": {},
     "output_type": "execute_result"
    }
   ],
   "source": [
    "#ANS6)\n",
    "app=(ayush)+(garg)\n",
    "print(app)\n",
    "np.where(5)"
   ]
  }
 ],
 "metadata": {
  "kernelspec": {
   "display_name": "Python 3",
   "language": "python",
   "name": "python3"
  },
  "language_info": {
   "codemirror_mode": {
    "name": "ipython",
    "version": 3
   },
   "file_extension": ".py",
   "mimetype": "text/x-python",
   "name": "python",
   "nbconvert_exporter": "python",
   "pygments_lexer": "ipython3",
   "version": "3.7.6"
  }
 },
 "nbformat": 4,
 "nbformat_minor": 4
}
